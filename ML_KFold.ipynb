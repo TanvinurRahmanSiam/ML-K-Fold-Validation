{
  "nbformat": 4,
  "nbformat_minor": 0,
  "metadata": {
    "colab": {
      "name": "ML KFold.ipynb",
      "provenance": []
    },
    "kernelspec": {
      "name": "python3",
      "display_name": "Python 3"
    },
    "language_info": {
      "name": "python"
    }
  },
  "cells": [
    {
      "cell_type": "markdown",
      "source": [
        "**K-Fold is a validation technique in which we divide the data into k-subsets and repeat the holdout method k times, with each of the k subsets serving as a test set and the remaining k-1 subsets serving as a training set.**\n",
        "\n",
        "**That is, K-Fold ensures that the score of our model does not depend on the way we select our train and test subsets. In this approach, we divide the data set into k number of subsets and the holdout method is repeated k number of times.**\n",
        "\n"
      ],
      "metadata": {
        "id": "gQc0Yqw-nrW2"
      }
    },
    {
      "cell_type": "code",
      "execution_count": 37,
      "metadata": {
        "id": "XuAPczF7ilf0"
      },
      "outputs": [],
      "source": [
        "from sklearn.linear_model import LogisticRegression \n",
        "from sklearn.svm import SVC\n",
        "from sklearn.ensemble import RandomForestClassifier \n",
        "import numpy as np\n",
        "from sklearn.datasets import load_digits"
      ]
    },
    {
      "cell_type": "markdown",
      "source": [
        "`Digits is a collection of handwritten numbers. The intensity of one pixel in an 8 x 8 image is represented by each feature.`"
      ],
      "metadata": {
        "id": "v3iPs2pAnvgj"
      }
    },
    {
      "cell_type": "code",
      "source": [
        "digits = load_digits()\n",
        "print(dir(digits))  # dir = directory "
      ],
      "metadata": {
        "colab": {
          "base_uri": "https://localhost:8080/"
        },
        "id": "L3AHni24itSs",
        "outputId": "1ec88e6a-34f3-475f-f5aa-07453032b664"
      },
      "execution_count": 38,
      "outputs": [
        {
          "output_type": "stream",
          "name": "stdout",
          "text": [
            "['DESCR', 'data', 'feature_names', 'frame', 'images', 'target', 'target_names']\n"
          ]
        }
      ]
    },
    {
      "cell_type": "markdown",
      "source": [
        "`model_selection is a technique for creating a blueprint for analyzing data and then applying it to new data. When making a prediction, choosing the right model allows us to get accurate results. To do so, we'll need to use a specific dataset to train our model. The model is then put to the test against a new dataset.`\n",
        "\n",
        "`Sklearn model_selection has a function called train_test_split that splits data arrays into two subsets: training data and testing data. We don't have to divide the dataset manually with this function. Sklearn train_test_split creates random partitions for the two subsets by default.`"
      ],
      "metadata": {
        "id": "b9DReTWXnwZy"
      }
    },
    {
      "cell_type": "code",
      "source": [
        "from sklearn.model_selection import train_test_split\n",
        "x_train, x_test, y_train, y_test = train_test_split(digits.data, digits.target, test_size = 0.3)"
      ],
      "metadata": {
        "id": "z2Wk5zZeivRm"
      },
      "execution_count": 39,
      "outputs": []
    },
    {
      "cell_type": "markdown",
      "source": [
        "*The number of items in an object is returned by the len() function. The len() function returns the number of characters in a string when the object is a string.*"
      ],
      "metadata": {
        "id": "wSrNaP3-nxTj"
      }
    },
    {
      "cell_type": "code",
      "source": [
        "print(len(x_train))"
      ],
      "metadata": {
        "colab": {
          "base_uri": "https://localhost:8080/"
        },
        "id": "9UXaEwAti1Su",
        "outputId": "af37419e-c2f5-4022-86a5-2e8846e2c3e8"
      },
      "execution_count": 40,
      "outputs": [
        {
          "output_type": "stream",
          "name": "stdout",
          "text": [
            "1257\n"
          ]
        }
      ]
    },
    {
      "cell_type": "code",
      "source": [
        "print(len(y_test))"
      ],
      "metadata": {
        "colab": {
          "base_uri": "https://localhost:8080/"
        },
        "id": "RQFOZr_bi3Qj",
        "outputId": "715b0e72-e8a4-4275-c6fb-7863bf535da9"
      },
      "execution_count": 41,
      "outputs": [
        {
          "output_type": "stream",
          "name": "stdout",
          "text": [
            "540\n"
          ]
        }
      ]
    },
    {
      "cell_type": "markdown",
      "source": [
        "`A Machine Learning classification algorithm called logistic regression is used to predict the probability of a categorical dependent variable. The dependent variable in logistic regression is a binary variable that contains data coded as 1 (yes, success, etc.) or 0 (no, failure, etc.).`"
      ],
      "metadata": {
        "id": "yz_ssA_vny78"
      }
    },
    {
      "cell_type": "code",
      "source": [
        "lr =  LogisticRegression()\n",
        "lr.fit(x_train, y_train)\n",
        "lr.score(x_test, y_test)*100"
      ],
      "metadata": {
        "colab": {
          "base_uri": "https://localhost:8080/"
        },
        "id": "dsxhJjD5i4Bt",
        "outputId": "18a831c3-fb86-4fa6-c669-16e9d441f206"
      },
      "execution_count": 42,
      "outputs": [
        {
          "output_type": "stream",
          "name": "stderr",
          "text": [
            "/usr/local/lib/python3.7/dist-packages/sklearn/linear_model/_logistic.py:818: ConvergenceWarning: lbfgs failed to converge (status=1):\n",
            "STOP: TOTAL NO. of ITERATIONS REACHED LIMIT.\n",
            "\n",
            "Increase the number of iterations (max_iter) or scale the data as shown in:\n",
            "    https://scikit-learn.org/stable/modules/preprocessing.html\n",
            "Please also refer to the documentation for alternative solver options:\n",
            "    https://scikit-learn.org/stable/modules/linear_model.html#logistic-regression\n",
            "  extra_warning_msg=_LOGISTIC_SOLVER_CONVERGENCE_MSG,\n"
          ]
        },
        {
          "output_type": "execute_result",
          "data": {
            "text/plain": [
              "94.81481481481482"
            ]
          },
          "metadata": {},
          "execution_count": 42
        }
      ]
    },
    {
      "cell_type": "markdown",
      "source": [
        "`A Linear SVC (Support Vector Classifier) is designed to fit to the data we provide and return a \"best fit\" hyperplane that divides or categorizes our data. Following that, we can feed some features to our classifier to see what the \"predicted\" class is after we've obtained the hyperplane.`"
      ],
      "metadata": {
        "id": "W7_6ot4Un0-s"
      }
    },
    {
      "cell_type": "code",
      "source": [
        "sm = SVC()\n",
        "sm.fit(x_train, y_train)\n",
        "sm.score(x_test, y_test)*100"
      ],
      "metadata": {
        "colab": {
          "base_uri": "https://localhost:8080/"
        },
        "id": "sCAPm2vJi8n9",
        "outputId": "f12638d3-dc3d-4d50-d52a-977c2e4182f5"
      },
      "execution_count": 43,
      "outputs": [
        {
          "output_type": "execute_result",
          "data": {
            "text/plain": [
              "99.25925925925925"
            ]
          },
          "metadata": {},
          "execution_count": 43
        }
      ]
    },
    {
      "cell_type": "markdown",
      "source": [
        "`A random forest classifier is a type of classification algorithm. A random forest is a meta estimator that uses averaging to improve predictive accuracy and control over-fitting by fitting a number of decision tree classifiers on various sub-samples of the dataset.`\n"
      ],
      "metadata": {
        "id": "FnVRv2aenzy6"
      }
    },
    {
      "cell_type": "code",
      "source": [
        "rf = RandomForestClassifier()\n",
        "rf.fit(x_train, y_train)\n",
        "rf.score(x_test, y_test)*100 "
      ],
      "metadata": {
        "colab": {
          "base_uri": "https://localhost:8080/"
        },
        "id": "NRU7yWz2i-pL",
        "outputId": "633b3684-7563-4c5c-bcaa-240f19691ec6"
      },
      "execution_count": 44,
      "outputs": [
        {
          "output_type": "execute_result",
          "data": {
            "text/plain": [
              "98.14814814814815"
            ]
          },
          "metadata": {},
          "execution_count": 44
        }
      ]
    },
    {
      "cell_type": "markdown",
      "source": [
        "`Model tuning and hyperparameter tuning are done using K-fold cross validation. Splitting the data into training and test data sets, applying K-fold cross-validation to the training data set, and selecting the model with the best performance is what K-fold cross validation entails.`"
      ],
      "metadata": {
        "id": "nodAPTnSn2Fr"
      }
    },
    {
      "cell_type": "code",
      "source": [
        "from sklearn.model_selection import KFold\n",
        "kf = KFold(n_splits = 3)\n",
        "kf"
      ],
      "metadata": {
        "colab": {
          "base_uri": "https://localhost:8080/"
        },
        "id": "O_9uHDxTi6IV",
        "outputId": "97e441f5-ec66-4698-9886-21c71a93b845"
      },
      "execution_count": 45,
      "outputs": [
        {
          "output_type": "execute_result",
          "data": {
            "text/plain": [
              "KFold(n_splits=3, random_state=None, shuffle=False)"
            ]
          },
          "metadata": {},
          "execution_count": 45
        }
      ]
    },
    {
      "cell_type": "code",
      "source": [
        "for train_index, test_index in kf.split([1,2,3,4,5,6,7,8,9]):\n",
        "    print(train_index, test_index)  "
      ],
      "metadata": {
        "colab": {
          "base_uri": "https://localhost:8080/"
        },
        "id": "kXiUiZmEjBUJ",
        "outputId": "fcdf405a-7c7b-4535-89bd-c317c694dfd7"
      },
      "execution_count": 46,
      "outputs": [
        {
          "output_type": "stream",
          "name": "stdout",
          "text": [
            "[3 4 5 6 7 8] [0 1 2]\n",
            "[0 1 2 6 7 8] [3 4 5]\n",
            "[0 1 2 3 4 5] [6 7 8]\n"
          ]
        }
      ]
    },
    {
      "cell_type": "code",
      "source": [
        "def get_score(model, x_train, x_test, y_train, y_test):\n",
        "    model.fit(x_train, y_train)\n",
        "    return model.score(x_test, y_test)"
      ],
      "metadata": {
        "id": "ldUnWc5IjDPr"
      },
      "execution_count": 47,
      "outputs": []
    },
    {
      "cell_type": "code",
      "source": [
        "get_score(LogisticRegression(), x_train, x_test, y_train, y_test)*100"
      ],
      "metadata": {
        "colab": {
          "base_uri": "https://localhost:8080/"
        },
        "id": "a7uBZpXfjEt8",
        "outputId": "f8b3506a-e729-43f3-8c22-966ca582001e"
      },
      "execution_count": 48,
      "outputs": [
        {
          "output_type": "stream",
          "name": "stderr",
          "text": [
            "/usr/local/lib/python3.7/dist-packages/sklearn/linear_model/_logistic.py:818: ConvergenceWarning: lbfgs failed to converge (status=1):\n",
            "STOP: TOTAL NO. of ITERATIONS REACHED LIMIT.\n",
            "\n",
            "Increase the number of iterations (max_iter) or scale the data as shown in:\n",
            "    https://scikit-learn.org/stable/modules/preprocessing.html\n",
            "Please also refer to the documentation for alternative solver options:\n",
            "    https://scikit-learn.org/stable/modules/linear_model.html#logistic-regression\n",
            "  extra_warning_msg=_LOGISTIC_SOLVER_CONVERGENCE_MSG,\n"
          ]
        },
        {
          "output_type": "execute_result",
          "data": {
            "text/plain": [
              "94.81481481481482"
            ]
          },
          "metadata": {},
          "execution_count": 48
        }
      ]
    },
    {
      "cell_type": "code",
      "source": [
        "get_score(SVC(), x_train, x_test, y_train, y_test)*100"
      ],
      "metadata": {
        "colab": {
          "base_uri": "https://localhost:8080/"
        },
        "id": "r4qlSPAAjHsc",
        "outputId": "24b4323e-2669-4b46-b451-c2647333f0ef"
      },
      "execution_count": 49,
      "outputs": [
        {
          "output_type": "execute_result",
          "data": {
            "text/plain": [
              "99.25925925925925"
            ]
          },
          "metadata": {},
          "execution_count": 49
        }
      ]
    },
    {
      "cell_type": "markdown",
      "source": [
        "*Cross-validator with Stratified K-Folds. Allows us to split data into train and test sets using train/test indices. This cross-validation object returns stratified folds and is a variant of KFold. The folds are created by keeping track of the percentage of samples in each class.*"
      ],
      "metadata": {
        "id": "P1cJ7ikGn5MD"
      }
    },
    {
      "cell_type": "code",
      "source": [
        "from sklearn.model_selection import StratifiedKFold\n",
        "skf = StratifiedKFold(n_splits = 3)"
      ],
      "metadata": {
        "id": "oF1jP4j1jJqy"
      },
      "execution_count": 50,
      "outputs": []
    },
    {
      "cell_type": "code",
      "source": [
        "scores_l = []\n",
        "scores_svm = []\n",
        "scores_rf = []\n",
        "\n",
        "for train_index, test_index in kf.split(digits.data):\n",
        "    x_train, x_test, y_train, y_test = digits.data[train_index], digits.data[test_index], digits.target[train_index], digits.target[test_index] \n",
        "\n",
        "    print('LR:',get_score(LogisticRegression(),x_train, x_test, y_train, y_test)*100)\n",
        "    print('SVC:',get_score(SVC(),x_train, x_test, y_train, y_test)*100)\n",
        "    print('RF:',get_score(RandomForestClassifier(),x_train, x_test, y_train, y_test)*100)\n",
        "\n",
        "    scores_l.append(get_score(LogisticRegression(),x_train, x_test, y_train, y_test)*100)\n",
        "    scores_svm.append(get_score(SVC(),x_train, x_test, y_train, y_test)*100)\n",
        "    scores_rf.append(get_score(RandomForestClassifier(),x_train, x_test, y_train, y_test)*100)"
      ],
      "metadata": {
        "colab": {
          "base_uri": "https://localhost:8080/"
        },
        "id": "MnjhhvUojLfS",
        "outputId": "c4fe7554-aec3-4b19-870c-7fdd94f60611"
      },
      "execution_count": 51,
      "outputs": [
        {
          "output_type": "stream",
          "name": "stderr",
          "text": [
            "/usr/local/lib/python3.7/dist-packages/sklearn/linear_model/_logistic.py:818: ConvergenceWarning: lbfgs failed to converge (status=1):\n",
            "STOP: TOTAL NO. of ITERATIONS REACHED LIMIT.\n",
            "\n",
            "Increase the number of iterations (max_iter) or scale the data as shown in:\n",
            "    https://scikit-learn.org/stable/modules/preprocessing.html\n",
            "Please also refer to the documentation for alternative solver options:\n",
            "    https://scikit-learn.org/stable/modules/linear_model.html#logistic-regression\n",
            "  extra_warning_msg=_LOGISTIC_SOLVER_CONVERGENCE_MSG,\n"
          ]
        },
        {
          "output_type": "stream",
          "name": "stdout",
          "text": [
            "LR: 92.32053422370618\n",
            "SVC: 96.661101836394\n",
            "RF: 94.32387312186978\n"
          ]
        },
        {
          "output_type": "stream",
          "name": "stderr",
          "text": [
            "/usr/local/lib/python3.7/dist-packages/sklearn/linear_model/_logistic.py:818: ConvergenceWarning: lbfgs failed to converge (status=1):\n",
            "STOP: TOTAL NO. of ITERATIONS REACHED LIMIT.\n",
            "\n",
            "Increase the number of iterations (max_iter) or scale the data as shown in:\n",
            "    https://scikit-learn.org/stable/modules/preprocessing.html\n",
            "Please also refer to the documentation for alternative solver options:\n",
            "    https://scikit-learn.org/stable/modules/linear_model.html#logistic-regression\n",
            "  extra_warning_msg=_LOGISTIC_SOLVER_CONVERGENCE_MSG,\n",
            "/usr/local/lib/python3.7/dist-packages/sklearn/linear_model/_logistic.py:818: ConvergenceWarning: lbfgs failed to converge (status=1):\n",
            "STOP: TOTAL NO. of ITERATIONS REACHED LIMIT.\n",
            "\n",
            "Increase the number of iterations (max_iter) or scale the data as shown in:\n",
            "    https://scikit-learn.org/stable/modules/preprocessing.html\n",
            "Please also refer to the documentation for alternative solver options:\n",
            "    https://scikit-learn.org/stable/modules/linear_model.html#logistic-regression\n",
            "  extra_warning_msg=_LOGISTIC_SOLVER_CONVERGENCE_MSG,\n"
          ]
        },
        {
          "output_type": "stream",
          "name": "stdout",
          "text": [
            "LR: 94.15692821368948\n",
            "SVC: 98.1636060100167\n",
            "RF: 94.65776293823038\n"
          ]
        },
        {
          "output_type": "stream",
          "name": "stderr",
          "text": [
            "/usr/local/lib/python3.7/dist-packages/sklearn/linear_model/_logistic.py:818: ConvergenceWarning: lbfgs failed to converge (status=1):\n",
            "STOP: TOTAL NO. of ITERATIONS REACHED LIMIT.\n",
            "\n",
            "Increase the number of iterations (max_iter) or scale the data as shown in:\n",
            "    https://scikit-learn.org/stable/modules/preprocessing.html\n",
            "Please also refer to the documentation for alternative solver options:\n",
            "    https://scikit-learn.org/stable/modules/linear_model.html#logistic-regression\n",
            "  extra_warning_msg=_LOGISTIC_SOLVER_CONVERGENCE_MSG,\n",
            "/usr/local/lib/python3.7/dist-packages/sklearn/linear_model/_logistic.py:818: ConvergenceWarning: lbfgs failed to converge (status=1):\n",
            "STOP: TOTAL NO. of ITERATIONS REACHED LIMIT.\n",
            "\n",
            "Increase the number of iterations (max_iter) or scale the data as shown in:\n",
            "    https://scikit-learn.org/stable/modules/preprocessing.html\n",
            "Please also refer to the documentation for alternative solver options:\n",
            "    https://scikit-learn.org/stable/modules/linear_model.html#logistic-regression\n",
            "  extra_warning_msg=_LOGISTIC_SOLVER_CONVERGENCE_MSG,\n"
          ]
        },
        {
          "output_type": "stream",
          "name": "stdout",
          "text": [
            "LR: 91.48580968280467\n",
            "SVC: 95.49248747913188\n",
            "RF: 93.15525876460768\n"
          ]
        },
        {
          "output_type": "stream",
          "name": "stderr",
          "text": [
            "/usr/local/lib/python3.7/dist-packages/sklearn/linear_model/_logistic.py:818: ConvergenceWarning: lbfgs failed to converge (status=1):\n",
            "STOP: TOTAL NO. of ITERATIONS REACHED LIMIT.\n",
            "\n",
            "Increase the number of iterations (max_iter) or scale the data as shown in:\n",
            "    https://scikit-learn.org/stable/modules/preprocessing.html\n",
            "Please also refer to the documentation for alternative solver options:\n",
            "    https://scikit-learn.org/stable/modules/linear_model.html#logistic-regression\n",
            "  extra_warning_msg=_LOGISTIC_SOLVER_CONVERGENCE_MSG,\n"
          ]
        }
      ]
    },
    {
      "cell_type": "code",
      "source": [
        "scores_l"
      ],
      "metadata": {
        "colab": {
          "base_uri": "https://localhost:8080/"
        },
        "id": "KzJpR6KGjN7L",
        "outputId": "d8c80f6e-db67-4994-ae9f-3fe47a2aa547"
      },
      "execution_count": 52,
      "outputs": [
        {
          "output_type": "execute_result",
          "data": {
            "text/plain": [
              "[92.32053422370618, 94.15692821368948, 91.48580968280467]"
            ]
          },
          "metadata": {},
          "execution_count": 52
        }
      ]
    },
    {
      "cell_type": "code",
      "source": [
        "scores_svm"
      ],
      "metadata": {
        "colab": {
          "base_uri": "https://localhost:8080/"
        },
        "id": "rDtjb5z4jQLb",
        "outputId": "f1ab5d26-da33-4bec-8802-de8da22769eb"
      },
      "execution_count": 53,
      "outputs": [
        {
          "output_type": "execute_result",
          "data": {
            "text/plain": [
              "[96.661101836394, 98.1636060100167, 95.49248747913188]"
            ]
          },
          "metadata": {},
          "execution_count": 53
        }
      ]
    },
    {
      "cell_type": "code",
      "source": [
        "scores_rf"
      ],
      "metadata": {
        "colab": {
          "base_uri": "https://localhost:8080/"
        },
        "id": "mmcJ1T1djSc8",
        "outputId": "2fdd06f4-47b4-4a34-9e97-16bc4a958c35"
      },
      "execution_count": 54,
      "outputs": [
        {
          "output_type": "execute_result",
          "data": {
            "text/plain": [
              "[92.65442404006677, 94.82470784641069, 93.32220367278798]"
            ]
          },
          "metadata": {},
          "execution_count": 54
        }
      ]
    }
  ]
}